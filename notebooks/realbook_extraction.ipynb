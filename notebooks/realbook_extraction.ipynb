{
 "cells": [
  {
   "cell_type": "markdown",
   "source": [
    "# Using realbook chord progression to train a markov model\n",
    "The goal of the analysis is to produce a Markov Model generating jazz progressions in the key of C (transpose all songs to C). \n",
    "\n",
    "Things to keep in mind : \n",
    "- Sometimes chords can last a full measure, sometimes half a measure ? Treat as a unit or separate ?\n",
    "- Sometimes progression lead to modulation to a different key, how to handle that ? \n",
    "\n",
    "## Data extraction"
   ],
   "metadata": {}
  },
  {
   "cell_type": "code",
   "execution_count": null,
   "source": [
    "import os \n",
    "import numpy as np\n",
    "import json\n",
    "import ChordalPy as cp\n",
    "from transposers import transposeRealBookFile\n",
    "import matplotlib.pyplot as plt"
   ],
   "outputs": [],
   "metadata": {}
  },
  {
   "cell_type": "code",
   "execution_count": null,
   "source": [
    "data = []\n",
    "\n",
    "for filename in os.listdir(\"/home/nsarrazin/lofi/notebooks/jazz_xlab\"):\n",
    "    if filename.endswith(\".xlab\"):\n",
    "        fullpath = os.path.join(\"/home/nsarrazin/lofi/notebooks/jazz_xlab\", filename)\n",
    "        data.append(transposeRealBookFile(fullpath))"
   ],
   "outputs": [],
   "metadata": {}
  },
  {
   "cell_type": "code",
   "execution_count": null,
   "source": [
    "flat_list = [item for sublist in data for item in sublist]\n",
    "statespace = list(set(flat_list))\n",
    "\n",
    "matrix = []\n",
    "for chord in statespace:\n",
    "    row = [0]*len(statespace) # initialize 0 count for each chord in statespace\n",
    "\n",
    "    for song in data:\n",
    "        for i,x in enumerate(song):\n",
    "            if x==chord:\n",
    "                try:\n",
    "                    next_chord = song[i+1]\n",
    "                    idx = statespace.index(next_chord)\n",
    "                    row[idx] +=1\n",
    "                except:\n",
    "                    pass\n",
    "\n",
    "    s = sum(row)\n",
    "\n",
    "    if s > 0:\n",
    "        row[:] = [f/s for f in row]\n",
    "\n",
    "    matrix.append(row)\n",
    "\n",
    "matrix = np.array(matrix)\n",
    "print(matrix.shape)"
   ],
   "outputs": [],
   "metadata": {}
  },
  {
   "cell_type": "code",
   "execution_count": null,
   "source": [
    "deadends = np.where(np.sum(matrix, axis=1)==0) # chords which were at the end of files and dont go anywhere, which would block the markov process\n",
    "\n",
    "for idx in deadends:\n",
    "    matrix[:,idx] = 0"
   ],
   "outputs": [],
   "metadata": {}
  },
  {
   "cell_type": "code",
   "execution_count": null,
   "source": [
    "np.save(\"matrix.npy\", matrix)\n",
    "json.dump(statespace, open(\"statespace.json\", \"w\"))"
   ],
   "outputs": [],
   "metadata": {}
  },
  {
   "cell_type": "code",
   "execution_count": null,
   "source": [
    "from networkx.drawing.nx_pydot import write_dot\n",
    "import networkx as nx\n",
    "\n",
    "\n",
    "Q = matrix\n",
    "\n",
    "G = nx.MultiDiGraph(Q)\n",
    "labels={}\n",
    "edge_labels={}\n",
    "\n",
    "n_edge = 0\n",
    "for i, origin_state in enumerate(statespace):\n",
    "    for j, destination_state in enumerate(statespace):\n",
    "        rate = Q[i][j]\n",
    "        if rate > 0:\n",
    "            G.add_edge(origin_state, destination_state, weight=rate, label=\"{:.02f}\".format(rate))\n",
    "            edge_labels[(origin_state, destination_state)] = f\"{rate}\"\n",
    "            n_edge +=1"
   ],
   "outputs": [],
   "metadata": {}
  }
 ],
 "metadata": {
  "orig_nbformat": 4,
  "language_info": {
   "name": "python",
   "version": "3.7.11",
   "mimetype": "text/x-python",
   "codemirror_mode": {
    "name": "ipython",
    "version": 3
   },
   "pygments_lexer": "ipython3",
   "nbconvert_exporter": "python",
   "file_extension": ".py"
  },
  "kernelspec": {
   "name": "python3",
   "display_name": "Python 3.8.12 64-bit ('lofi-backend': conda)"
  },
  "interpreter": {
   "hash": "b050d84a48326da5a8175a1a6994c97ea6510482a21e3c4121b675e91f20728e"
  }
 },
 "nbformat": 4,
 "nbformat_minor": 2
}